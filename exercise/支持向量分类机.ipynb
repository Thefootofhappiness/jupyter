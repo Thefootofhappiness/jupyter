{
 "cells": [
  {
   "cell_type": "code",
   "execution_count": 94,
   "outputs": [],
   "source": [
    "#-*- coding : utf-8 -*-\n",
    "# coding: utf-8\n",
    "import pandas as pd\n",
    "import matplotlib.pyplot as plt\n",
    "from sklearn.preprocessing import StandardScaler\n",
    "\n",
    "plt.rcParams['axes.unicode_minus'] = False\n",
    "df = pd.DataFrame(pd.read_csv('iris_training.csv', encoding='gbk'))\n",
    "test=pd.DataFrame(pd.read_csv('iris_test.csv', encoding='gbk'))"
   ],
   "metadata": {
    "collapsed": false,
    "pycharm": {
     "name": "#%%\n"
    }
   }
  },
  {
   "cell_type": "code",
   "execution_count": 95,
   "outputs": [],
   "source": [
    "X=df.iloc[:,:4]\n",
    "y=df.iloc[:,4]\n",
    "x_test= test.iloc[:,:4]\n",
    "#数据标准化\n",
    "ss_x = StandardScaler()\n",
    "X = ss_x.fit_transform(X)\n",
    "ss_t = StandardScaler()\n",
    "x_test= ss_t.fit_transform(x_test)\n",
    "y_test=test.iloc[:,4]\n",
    "#Import Library\n",
    "from sklearn import svm\n",
    "#Assumed you have, X (predictor) and Y (target) for training data set and x_test(predictor) of test_dataset\n",
    "# Create SVM classification object\n",
    "model = svm.SVC(kernel='linear', C=1, gamma=1)#效果不好的话这个地方可以调整参数,书P527页有介绍\n",
    "# there is various option associated with it, like changing kernel, gamma and C value. Will discuss more # about it in next section.Train the model using the training sets and check score\n",
    "model.fit(X, y)\n",
    "#Predict Output\n",
    "predicted= model.predict(x_test)"
   ],
   "metadata": {
    "collapsed": false,
    "pycharm": {
     "name": "#%%\n"
    }
   }
  },
  {
   "cell_type": "code",
   "execution_count": 96,
   "outputs": [
    {
     "name": "stdout",
     "output_type": "stream",
     "text": [
      "训练模型准确度为96.66666666666667%\n",
      "测试集预测准确率为96.66666666666667%\n"
     ]
    }
   ],
   "source": [
    "total=0\n",
    "for i in range(0,len(predicted)):\n",
    "    if y_test[i]==predicted[i]:\n",
    "        total+=1\n",
    "percent=100*total/len(predicted)\n",
    "print('训练模型准确度为{0}%'.format(100*model.score(X, y)))\n",
    "print('测试集预测准确率为{0}%'.format(percent))"
   ],
   "metadata": {
    "collapsed": false,
    "pycharm": {
     "name": "#%%\n"
    }
   }
  },
  {
   "cell_type": "code",
   "execution_count": 97,
   "outputs": [
    {
     "data": {
      "text/plain": "array([1, 2, 0, 1, 1, 1, 0, 2, 1, 2, 2, 0, 2, 1, 1, 0, 1, 0, 0, 2, 0, 1,\n       2, 2, 1, 1, 0, 1, 2, 1], dtype=int64)"
     },
     "execution_count": 97,
     "metadata": {},
     "output_type": "execute_result"
    }
   ],
   "source": [
    "predicted#预测结果\n"
   ],
   "metadata": {
    "collapsed": false,
    "pycharm": {
     "name": "#%%\n"
    }
   }
  }
 ],
 "metadata": {
  "kernelspec": {
   "display_name": "Python 3",
   "language": "python",
   "name": "python3"
  },
  "language_info": {
   "codemirror_mode": {
    "name": "ipython",
    "version": 2
   },
   "file_extension": ".py",
   "mimetype": "text/x-python",
   "name": "python",
   "nbconvert_exporter": "python",
   "pygments_lexer": "ipython2",
   "version": "2.7.6"
  }
 },
 "nbformat": 4,
 "nbformat_minor": 0
}