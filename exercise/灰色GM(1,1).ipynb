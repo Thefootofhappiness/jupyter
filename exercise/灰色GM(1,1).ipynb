{
 "cells": [
  {
   "cell_type": "code",
   "execution_count": 115,
   "outputs": [],
   "source": [
    "# -*- coding: utf-8 -*-\n",
    "from sklearn.metrics import mean_absolute_error\n",
    "import pandas as pd\n",
    "import numpy as np\n",
    "import matplotlib.pyplot as plt\n",
    "import os\n",
    "df = pd.DataFrame(pd.read_csv('iris_training.csv', encoding='gbk'))\n",
    "plt.rcParams['axes.unicode_minus'] = False"
   ],
   "metadata": {
    "collapsed": false,
    "pycharm": {
     "name": "#%%\n"
    }
   }
  },
  {
   "cell_type": "code",
   "execution_count": 116,
   "outputs": [
    {
     "name": "stdout",
     "output_type": "stream",
     "text": [
      "真实值: [72.  71.6]\n",
      "预测值: [71.3 70.9]\n",
      "后验差比>0.65，模型精度等级为不合格\n"
     ]
    }
   ],
   "source": [
    "def GM11(x,n):\n",
    "    '''\n",
    "    灰色预测\n",
    "    x：序列，numpy对象\n",
    "    n:需要往后预测的个数\n",
    "    '''\n",
    "    x1 = x.cumsum()#一次累加\n",
    "    z1 = (x1[:len(x1) - 1] + x1[1:])/2.0#紧邻均值\n",
    "    z1 = z1.reshape((len(z1),1))\n",
    "    B = np.append(-z1,np.ones_like(z1),axis=1)\n",
    "    Y = x[1:].reshape((len(x) - 1,1))\n",
    "    #a为发展系数 b为灰色作用量\n",
    "    [[a],[b]] = np.dot(np.dot(np.linalg.inv(np.dot(B.T, B)), B.T), Y)#计算参数\n",
    "    result = (x[0]-b/a)*np.exp(-a*(n-1))-(x[0]-b/a)*np.exp(-a*(n-2))\n",
    "    S1_2 = x.var()#原序列方差\n",
    "    e = list()#残差序列\n",
    "    for index in range(1,x.shape[0]+1):\n",
    "        predict = (x[0]-b/a)*np.exp(-a*(index-1))-(x[0]-b/a)*np.exp(-a*(index-2))\n",
    "        e.append(x[index-1]-predict)\n",
    "    S2_2 = np.array(e).var()#残差方差\n",
    "    C = S2_2/S1_2#后验差比\n",
    "    if C<=0.35:\n",
    "        assess = '后验差比<=0.35，模型精度等级为好'\n",
    "    elif C<=0.5:\n",
    "        assess = '后验差比<=0.5，模型精度等级为合格'\n",
    "    elif C<=0.65:\n",
    "        assess = '后验差比<=0.65，模型精度等级为勉强'\n",
    "    else:\n",
    "        assess = '后验差比>0.65，模型精度等级为不合格'\n",
    "    #预测数据\n",
    "    predict = list()\n",
    "    for index in range(x.shape[0]+1,x.shape[0]+n+1):\n",
    "        predict.append((x[0]-b/a)*np.exp(-a*(index-1))-(x[0]-b/a)*np.exp(-a*(index-2)))\n",
    "    predict = np.array(predict)\n",
    "    return {\n",
    "            'a':{'value':a,'desc':'发展系数'},\n",
    "            'b':{'value':b,'desc':'灰色作用量'},\n",
    "            'predict':{'value':result,'desc':'第%d个预测值'%n},\n",
    "            'C':{'value':C,'desc':assess},\n",
    "            'predict':{'value':predict,'desc':'往后预测%d个的序列'%(n)},\n",
    "            }\n",
    "if __name__ == \"__main__\":\n",
    "    data = np.array([71.1, 72.4, 72.4, 72.1, 71.4, 72.0,71.6])\n",
    "    x = data[0:5]#输入数据\n",
    "    y = data[5:]#需要预测的数据\n",
    "    result = GM11(x,len(y))\n",
    "    predict = result['predict']['value']\n",
    "    predict = np.round(predict,1)\n",
    "    print('真实值:',y)\n",
    "    print('预测值:',predict)\n",
    "print(result['C']['desc'])"
   ],
   "metadata": {
    "collapsed": false,
    "pycharm": {
     "name": "#%%\n"
    }
   }
  }
 ],
 "metadata": {
  "kernelspec": {
   "display_name": "Python 3",
   "language": "python",
   "name": "python3"
  },
  "language_info": {
   "codemirror_mode": {
    "name": "ipython",
    "version": 2
   },
   "file_extension": ".py",
   "mimetype": "text/x-python",
   "name": "python",
   "nbconvert_exporter": "python",
   "pygments_lexer": "ipython2",
   "version": "2.7.6"
  }
 },
 "nbformat": 4,
 "nbformat_minor": 0
}