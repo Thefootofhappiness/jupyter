{
 "cells": [
  {
   "cell_type": "code",
   "execution_count": 47,
   "outputs": [],
   "source": [
    "from sklearn.model_selection import train_test_split\n",
    "#-*- coding : utf-8 -*-\n",
    "# coding: utf-8\n",
    "import pandas as pd\n",
    "# 从 sklearn.svm 中导入支持向量机（回归）模型。\n",
    "from sklearn.svm import SVR\n",
    "from sklearn.preprocessing import StandardScaler\n",
    "import matplotlib.pyplot as plt\n",
    "plt.rcParams['axes.unicode_minus'] = False\n",
    "df = pd.DataFrame(pd.read_csv('housing.csv', encoding='gbk'))"
   ],
   "metadata": {
    "collapsed": false,
    "pycharm": {
     "name": "#%%\n"
    }
   }
  },
  {
   "cell_type": "code",
   "execution_count": 48,
   "outputs": [],
   "source": [
    "X=df.iloc[:,:-1]\n",
    "y=df.iloc[:,-1]\n",
    "X_train, X_test, y_train, y_test = train_test_split(X, y, random_state=33, test_size=0.25)\n",
    "ss_x = StandardScaler()\n",
    "x_train = ss_x.fit_transform(X_train)\n",
    "x_test = ss_x.transform(X_test)\n",
    "ss_y = StandardScaler()\n",
    "y_train = ss_y.fit_transform(y_train.values.reshape(-1, 1))\n",
    "y_test = ss_y.transform(y_test.values.reshape(-1, 1))"
   ],
   "metadata": {
    "collapsed": false,
    "pycharm": {
     "name": "#%%\n"
    }
   }
  },
  {
   "cell_type": "code",
   "execution_count": 50,
   "outputs": [
    {
     "name": "stderr",
     "output_type": "stream",
     "text": [
      "D:\\Ancoda\\lib\\site-packages\\sklearn\\utils\\validation.py:63: DataConversionWarning: A column-vector y was passed when a 1d array was expected. Please change the shape of y to (n_samples, ), for example using ravel().\n",
      "  return f(*args, **kwargs)\n"
     ]
    },
    {
     "name": "stdout",
     "output_type": "stream",
     "text": [
      "R-squared value of linear SVR is 0.6392337991710477\n",
      "The mean squared error of linear SVR is 27.974278246703975\n",
      "The mean absoluate error of linear SVR is 3.442445855093506\n"
     ]
    },
    {
     "data": {
      "text/plain": "{'C': 1.0,\n 'cache_size': 200,\n 'coef0': 0.0,\n 'degree': 3,\n 'epsilon': 0.1,\n 'gamma': 'scale',\n 'kernel': 'linear',\n 'max_iter': -1,\n 'shrinking': True,\n 'tol': 0.001,\n 'verbose': False}"
     },
     "execution_count": 50,
     "metadata": {},
     "output_type": "execute_result"
    }
   ],
   "source": [
    "# 使用线性核函数配置的支持向量机进行回归训练，并且对测试样本进行预测。\n",
    "linear_svr = SVR(kernel='linear')\n",
    "linear_svr.fit(X_train, y_train)\n",
    "linear_svr_y_predict = linear_svr.predict(X_test)\n",
    "from sklearn.metrics import r2_score, mean_absolute_error, mean_squared_error\n",
    "print('R-squared value of linear SVR is', linear_svr.score(X_test, y_test))\n",
    "print('The mean squared error of linear SVR is', mean_squared_error(\n",
    "    ss_y.inverse_transform(y_test), ss_y.inverse_transform(linear_svr_y_predict)))\n",
    "print('The mean absoluate error of linear SVR is', mean_absolute_error(\n",
    "    ss_y.inverse_transform(y_test), ss_y.inverse_transform(linear_svr_y_predict)))\n",
    "linear_svr.get_params(deep=True)"
   ],
   "metadata": {
    "collapsed": false,
    "pycharm": {
     "name": "#%%\n"
    }
   }
  },
  {
   "cell_type": "code",
   "execution_count": null,
   "outputs": [],
   "source": [
    "# 使用多项式核函数配置的支持向量机进行回归训练，并且对测试样本进行预测。\n",
    "poly_svr = SVR(kernel='poly')\n",
    "poly_svr.fit(X_train, y_train)\n",
    "poly_svr_y_predict = poly_svr.predict(X_test)\n",
    "print('R-squared value of Poly SVR is', poly_svr.score(X_test, y_test))\n",
    "print('The mean squared error of Poly SVR is', mean_squared_error(\n",
    "    ss_y.inverse_transform(y_test), ss_y.inverse_transform(poly_svr_y_predict)))\n",
    "print('The mean absoluate error of Poly SVR is', mean_absolute_error(\n",
    "    ss_y.inverse_transform(y_test), ss_y.inverse_transform(poly_svr_y_predict)))"
   ],
   "metadata": {
    "collapsed": false,
    "pycharm": {
     "name": "#%%\n"
    }
   }
  },
  {
   "cell_type": "code",
   "execution_count": null,
   "outputs": [],
   "source": [
    "# 使用径向基核函数配置的支持向量机进行回归训练，并且对测试样本进行预测。\n",
    "rbf_svr = SVR(kernel='rbf')\n",
    "rbf_svr.fit(X_train, y_train)\n",
    "rbf_svr_y_predict = rbf_svr.predict(X_test)\n",
    "print('R-squared value of RBF SVR is', rbf_svr.score(X_test, y_test))\n",
    "print('The mean squared error of RBF SVR is', mean_squared_error(\n",
    "    ss_y.inverse_transform(y_test), ss_y.inverse_transform(rbf_svr_y_predict)))\n",
    "print('The mean absoluate error of RBF SVR is', mean_absolute_error(\n",
    "    ss_y.inverse_transform(y_test), ss_y.inverse_transform(rbf_svr_y_predict)))"
   ],
   "metadata": {
    "collapsed": false,
    "pycharm": {
     "name": "#%%\n"
    }
   }
  },
  {
   "cell_type": "code",
   "execution_count": 49,
   "outputs": [],
   "source": [],
   "metadata": {
    "collapsed": false,
    "pycharm": {
     "name": "#%%\n"
    }
   }
  }
 ],
 "metadata": {
  "kernelspec": {
   "display_name": "Python 3",
   "language": "python",
   "name": "python3"
  },
  "language_info": {
   "codemirror_mode": {
    "name": "ipython",
    "version": 2
   },
   "file_extension": ".py",
   "mimetype": "text/x-python",
   "name": "python",
   "nbconvert_exporter": "python",
   "pygments_lexer": "ipython2",
   "version": "2.7.6"
  }
 },
 "nbformat": 4,
 "nbformat_minor": 0
}