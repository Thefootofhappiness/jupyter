{
 "cells": [
  {
   "cell_type": "code",
   "execution_count": 95,
   "outputs": [],
   "source": [
    "#-*- coding : utf-8 -*-\n",
    "# coding: utf-8\n",
    "import seaborn as sns\n",
    "import pandas as pd\n",
    "from patsy import dmatrices\n",
    "import numpy as np\n",
    "import statsmodels.api as sm\n",
    "from statsmodels.api import add_constant\n",
    "from statsmodels.stats.outliers_influence import variance_inflation_factor\n",
    "import matplotlib.pyplot as plt\n",
    "plt.rcParams['axes.unicode_minus'] = False\n",
    "df = pd.DataFrame(pd.read_csv('binary.csv', encoding='gbk'))#%%\n",
    "\n"
   ],
   "metadata": {
    "collapsed": false,
    "pycharm": {
     "name": "#%%\n"
    }
   }
  },
  {
   "cell_type": "code",
   "execution_count": 96,
   "outputs": [
    {
     "data": {
      "text/plain": "     admit  gre   gpa  prestige\n0        0  380  3.61         3\n1        1  660  3.67         3\n2        1  800  4.00         1\n3        1  640  3.19         4\n4        0  520  2.93         4\n..     ...  ...   ...       ...\n395      0  620  4.00         2\n396      0  560  3.04         3\n397      0  460  2.63         2\n398      0  700  3.65         2\n399      0  600  3.89         3\n\n[400 rows x 4 columns]",
      "text/html": "<div>\n<style scoped>\n    .dataframe tbody tr th:only-of-type {\n        vertical-align: middle;\n    }\n\n    .dataframe tbody tr th {\n        vertical-align: top;\n    }\n\n    .dataframe thead th {\n        text-align: right;\n    }\n</style>\n<table border=\"1\" class=\"dataframe\">\n  <thead>\n    <tr style=\"text-align: right;\">\n      <th></th>\n      <th>admit</th>\n      <th>gre</th>\n      <th>gpa</th>\n      <th>prestige</th>\n    </tr>\n  </thead>\n  <tbody>\n    <tr>\n      <th>0</th>\n      <td>0</td>\n      <td>380</td>\n      <td>3.61</td>\n      <td>3</td>\n    </tr>\n    <tr>\n      <th>1</th>\n      <td>1</td>\n      <td>660</td>\n      <td>3.67</td>\n      <td>3</td>\n    </tr>\n    <tr>\n      <th>2</th>\n      <td>1</td>\n      <td>800</td>\n      <td>4.00</td>\n      <td>1</td>\n    </tr>\n    <tr>\n      <th>3</th>\n      <td>1</td>\n      <td>640</td>\n      <td>3.19</td>\n      <td>4</td>\n    </tr>\n    <tr>\n      <th>4</th>\n      <td>0</td>\n      <td>520</td>\n      <td>2.93</td>\n      <td>4</td>\n    </tr>\n    <tr>\n      <th>...</th>\n      <td>...</td>\n      <td>...</td>\n      <td>...</td>\n      <td>...</td>\n    </tr>\n    <tr>\n      <th>395</th>\n      <td>0</td>\n      <td>620</td>\n      <td>4.00</td>\n      <td>2</td>\n    </tr>\n    <tr>\n      <th>396</th>\n      <td>0</td>\n      <td>560</td>\n      <td>3.04</td>\n      <td>3</td>\n    </tr>\n    <tr>\n      <th>397</th>\n      <td>0</td>\n      <td>460</td>\n      <td>2.63</td>\n      <td>2</td>\n    </tr>\n    <tr>\n      <th>398</th>\n      <td>0</td>\n      <td>700</td>\n      <td>3.65</td>\n      <td>2</td>\n    </tr>\n    <tr>\n      <th>399</th>\n      <td>0</td>\n      <td>600</td>\n      <td>3.89</td>\n      <td>3</td>\n    </tr>\n  </tbody>\n</table>\n<p>400 rows × 4 columns</p>\n</div>"
     },
     "execution_count": 96,
     "metadata": {},
     "output_type": "execute_result"
    }
   ],
   "source": [
    "df.head()\n",
    "df.columns = [\"admit\", \"gre\", \"gpa\", \"prestige\"]\n",
    "df"
   ],
   "metadata": {
    "collapsed": false,
    "pycharm": {
     "name": "#%%\n"
    }
   }
  },
  {
   "cell_type": "code",
   "execution_count": 97,
   "outputs": [
    {
     "data": {
      "text/plain": "     admit  gre   gpa  prestige_1  prestige_2  prestige_3  intercept\n0        0  380  3.61           0           0           1        1.0\n1        1  660  3.67           0           0           1        1.0\n2        1  800  4.00           1           0           0        1.0\n3        1  640  3.19           0           0           0        1.0\n4        0  520  2.93           0           0           0        1.0\n..     ...  ...   ...         ...         ...         ...        ...\n395      0  620  4.00           0           1           0        1.0\n396      0  560  3.04           0           0           1        1.0\n397      0  460  2.63           0           1           0        1.0\n398      0  700  3.65           0           1           0        1.0\n399      0  600  3.89           0           0           1        1.0\n\n[400 rows x 7 columns]",
      "text/html": "<div>\n<style scoped>\n    .dataframe tbody tr th:only-of-type {\n        vertical-align: middle;\n    }\n\n    .dataframe tbody tr th {\n        vertical-align: top;\n    }\n\n    .dataframe thead th {\n        text-align: right;\n    }\n</style>\n<table border=\"1\" class=\"dataframe\">\n  <thead>\n    <tr style=\"text-align: right;\">\n      <th></th>\n      <th>admit</th>\n      <th>gre</th>\n      <th>gpa</th>\n      <th>prestige_1</th>\n      <th>prestige_2</th>\n      <th>prestige_3</th>\n      <th>intercept</th>\n    </tr>\n  </thead>\n  <tbody>\n    <tr>\n      <th>0</th>\n      <td>0</td>\n      <td>380</td>\n      <td>3.61</td>\n      <td>0</td>\n      <td>0</td>\n      <td>1</td>\n      <td>1.0</td>\n    </tr>\n    <tr>\n      <th>1</th>\n      <td>1</td>\n      <td>660</td>\n      <td>3.67</td>\n      <td>0</td>\n      <td>0</td>\n      <td>1</td>\n      <td>1.0</td>\n    </tr>\n    <tr>\n      <th>2</th>\n      <td>1</td>\n      <td>800</td>\n      <td>4.00</td>\n      <td>1</td>\n      <td>0</td>\n      <td>0</td>\n      <td>1.0</td>\n    </tr>\n    <tr>\n      <th>3</th>\n      <td>1</td>\n      <td>640</td>\n      <td>3.19</td>\n      <td>0</td>\n      <td>0</td>\n      <td>0</td>\n      <td>1.0</td>\n    </tr>\n    <tr>\n      <th>4</th>\n      <td>0</td>\n      <td>520</td>\n      <td>2.93</td>\n      <td>0</td>\n      <td>0</td>\n      <td>0</td>\n      <td>1.0</td>\n    </tr>\n    <tr>\n      <th>...</th>\n      <td>...</td>\n      <td>...</td>\n      <td>...</td>\n      <td>...</td>\n      <td>...</td>\n      <td>...</td>\n      <td>...</td>\n    </tr>\n    <tr>\n      <th>395</th>\n      <td>0</td>\n      <td>620</td>\n      <td>4.00</td>\n      <td>0</td>\n      <td>1</td>\n      <td>0</td>\n      <td>1.0</td>\n    </tr>\n    <tr>\n      <th>396</th>\n      <td>0</td>\n      <td>560</td>\n      <td>3.04</td>\n      <td>0</td>\n      <td>0</td>\n      <td>1</td>\n      <td>1.0</td>\n    </tr>\n    <tr>\n      <th>397</th>\n      <td>0</td>\n      <td>460</td>\n      <td>2.63</td>\n      <td>0</td>\n      <td>1</td>\n      <td>0</td>\n      <td>1.0</td>\n    </tr>\n    <tr>\n      <th>398</th>\n      <td>0</td>\n      <td>700</td>\n      <td>3.65</td>\n      <td>0</td>\n      <td>1</td>\n      <td>0</td>\n      <td>1.0</td>\n    </tr>\n    <tr>\n      <th>399</th>\n      <td>0</td>\n      <td>600</td>\n      <td>3.89</td>\n      <td>0</td>\n      <td>0</td>\n      <td>1</td>\n      <td>1.0</td>\n    </tr>\n  </tbody>\n</table>\n<p>400 rows × 7 columns</p>\n</div>"
     },
     "execution_count": 97,
     "metadata": {},
     "output_type": "execute_result"
    }
   ],
   "source": [
    "#虚拟变量分4类,为了避免多重共线性只留3个\n",
    "data=df.drop('prestige',axis=1).join(data.iloc[:,:3],how='outer')\n",
    "data['intercept'] = 1.0\n",
    "data"
   ],
   "metadata": {
    "collapsed": false,
    "pycharm": {
     "name": "#%%\n"
    }
   }
  },
  {
   "cell_type": "code",
   "execution_count": 98,
   "outputs": [
    {
     "name": "stdout",
     "output_type": "stream",
     "text": [
      "Optimization terminated successfully.\n",
      "         Current function value: 0.573147\n",
      "         Iterations 6\n"
     ]
    }
   ],
   "source": [
    "# 指定作为训练变量的列，不含目标列`admit`\n",
    "train_cols = data.columns[1:]\n",
    "# Index([gre, gpa, prestige_2, prestige_3, prestige_4], dtype=object)\n",
    "\n",
    "logit = sm.Logit(data['admit'], data[train_cols])\n",
    "# 拟合模型\n",
    "result = logit.fit()"
   ],
   "metadata": {
    "collapsed": false,
    "pycharm": {
     "name": "#%%\n"
    }
   }
  },
  {
   "cell_type": "code",
   "execution_count": 99,
   "outputs": [],
   "source": [
    "import copy\n",
    "combos = copy.deepcopy(data)\n",
    "\n",
    "# 数据中的列要跟预测时用到的列一致\n",
    "predict_cols = combos.columns[1:]\n",
    "\n",
    "# 预测集也要添加intercept变量\n",
    "combos['intercept'] = 1.0\n",
    "\n",
    "# 进行预测，并将预测评分存入 predict 列中\n",
    "combos['predict'] = result.predict(combos[predict_cols])\n",
    "a=combos['predict']\n",
    "b=combos['admit']"
   ],
   "metadata": {
    "collapsed": false,
    "pycharm": {
     "name": "#%%\n"
    }
   }
  },
  {
   "cell_type": "code",
   "execution_count": 104,
   "outputs": [
    {
     "name": "stdout",
     "output_type": "stream",
     "text": [
      "准确率为71.0%\n"
     ]
    },
    {
     "data": {
      "text/plain": "<class 'statsmodels.iolib.summary.Summary'>\n\"\"\"\n                           Logit Regression Results                           \n==============================================================================\nDep. Variable:                  admit   No. Observations:                  400\nModel:                          Logit   Df Residuals:                      394\nMethod:                           MLE   Df Model:                            5\nDate:                Fri, 23 Jul 2021   Pseudo R-squ.:                 0.08292\nTime:                        23:25:14   Log-Likelihood:                -229.26\nconverged:                       True   LL-Null:                       -249.99\nCovariance Type:            nonrobust   LLR p-value:                 7.578e-08\n==============================================================================\n                 coef    std err          z      P>|z|      [0.025      0.975]\n------------------------------------------------------------------------------\ngre            0.0023      0.001      2.070      0.038       0.000       0.004\ngpa            0.8040      0.332      2.423      0.015       0.154       1.454\nprestige_1     1.5515      0.418      3.713      0.000       0.733       2.370\nprestige_2     0.8760      0.367      2.389      0.017       0.157       1.595\nprestige_3     0.2113      0.393      0.538      0.591      -0.559       0.981\nintercept     -5.5414      1.138     -4.869      0.000      -7.772      -3.311\n==============================================================================\n\"\"\"",
      "text/html": "<table class=\"simpletable\">\n<caption>Logit Regression Results</caption>\n<tr>\n  <th>Dep. Variable:</th>         <td>admit</td>      <th>  No. Observations:  </th>  <td>   400</td>  \n</tr>\n<tr>\n  <th>Model:</th>                 <td>Logit</td>      <th>  Df Residuals:      </th>  <td>   394</td>  \n</tr>\n<tr>\n  <th>Method:</th>                 <td>MLE</td>       <th>  Df Model:          </th>  <td>     5</td>  \n</tr>\n<tr>\n  <th>Date:</th>            <td>Fri, 23 Jul 2021</td> <th>  Pseudo R-squ.:     </th>  <td>0.08292</td> \n</tr>\n<tr>\n  <th>Time:</th>                <td>23:25:14</td>     <th>  Log-Likelihood:    </th> <td> -229.26</td> \n</tr>\n<tr>\n  <th>converged:</th>             <td>True</td>       <th>  LL-Null:           </th> <td> -249.99</td> \n</tr>\n<tr>\n  <th>Covariance Type:</th>     <td>nonrobust</td>    <th>  LLR p-value:       </th> <td>7.578e-08</td>\n</tr>\n</table>\n<table class=\"simpletable\">\n<tr>\n       <td></td>         <th>coef</th>     <th>std err</th>      <th>z</th>      <th>P>|z|</th>  <th>[0.025</th>    <th>0.975]</th>  \n</tr>\n<tr>\n  <th>gre</th>        <td>    0.0023</td> <td>    0.001</td> <td>    2.070</td> <td> 0.038</td> <td>    0.000</td> <td>    0.004</td>\n</tr>\n<tr>\n  <th>gpa</th>        <td>    0.8040</td> <td>    0.332</td> <td>    2.423</td> <td> 0.015</td> <td>    0.154</td> <td>    1.454</td>\n</tr>\n<tr>\n  <th>prestige_1</th> <td>    1.5515</td> <td>    0.418</td> <td>    3.713</td> <td> 0.000</td> <td>    0.733</td> <td>    2.370</td>\n</tr>\n<tr>\n  <th>prestige_2</th> <td>    0.8760</td> <td>    0.367</td> <td>    2.389</td> <td> 0.017</td> <td>    0.157</td> <td>    1.595</td>\n</tr>\n<tr>\n  <th>prestige_3</th> <td>    0.2113</td> <td>    0.393</td> <td>    0.538</td> <td> 0.591</td> <td>   -0.559</td> <td>    0.981</td>\n</tr>\n<tr>\n  <th>intercept</th>  <td>   -5.5414</td> <td>    1.138</td> <td>   -4.869</td> <td> 0.000</td> <td>   -7.772</td> <td>   -3.311</td>\n</tr>\n</table>"
     },
     "execution_count": 104,
     "metadata": {},
     "output_type": "execute_result"
    }
   ],
   "source": [
    "total = 0\n",
    "for i in range(0,len(a)):\n",
    "    if b[i]==round(a[i]):\n",
    "        total+=1\n",
    "percent=100*total/len(a)\n",
    "print('准确率为{0}%'.format(percent))\n",
    "result.summary()\n"
   ],
   "metadata": {
    "collapsed": false,
    "pycharm": {
     "name": "#%%\n"
    }
   }
  }
 ],
 "metadata": {
  "kernelspec": {
   "display_name": "Python 3",
   "language": "python",
   "name": "python3"
  },
  "language_info": {
   "codemirror_mode": {
    "name": "ipython",
    "version": 2
   },
   "file_extension": ".py",
   "mimetype": "text/x-python",
   "name": "python",
   "nbconvert_exporter": "python",
   "pygments_lexer": "ipython2",
   "version": "2.7.6"
  }
 },
 "nbformat": 4,
 "nbformat_minor": 0
}